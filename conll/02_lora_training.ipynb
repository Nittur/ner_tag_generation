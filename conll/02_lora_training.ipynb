{
  "cells": [
    {
      "cell_type": "markdown",
      "metadata": {},
      "source": [
        "# LoRA Fine-tuning for NER Label Generation\n",
        "\n",
        "This notebook fine-tunes the Qwen 0.5B-Instruct model using LoRA (Low-Rank Adaptation) for NER label generation as a text generation task.\n"
      ]
    },
    {
      "cell_type": "code",
      "execution_count": 1,
      "metadata": {},
      "outputs": [],
      "source": [
        "# Imports\n",
        "import json\n",
        "import os\n",
        "import torch\n",
        "from transformers import AutoModelForCausalLM, AutoTokenizer, TrainingArguments\n",
        "from datasets import Dataset\n",
        "from peft import LoraConfig, get_peft_model, TaskType\n",
        "from trl import SFTTrainer\n"
      ]
    },
    {
      "cell_type": "code",
      "execution_count": 2,
      "metadata": {},
      "outputs": [
        {
          "name": "stdout",
          "output_type": "stream",
          "text": [
            "Loaded 3 training examples\n",
            "Loaded 2 validation examples\n",
            "\n",
            "Sample training example:\n",
            "Instruction: From TOKENS, return JSON: {\"PER\":[[...]],\"LOC\":[[...]],\"ORG\":[[...]],\"MISC\":[[...]]}; each mention i...\n",
            "Input: ['EU', 'rejects', 'German', 'call', 'to', 'boycott', 'British', 'lamb', '.']...\n",
            "Output: {\"PER\":[],\"LOC\":[],\"ORG\":[[\"EU\"]],\"MISC\":[[\"German\"],[\"British\"]]}...\n"
          ]
        }
      ],
      "source": [
        "# Load processed data\n",
        "with open(\"outputs/data/train_instruction_data.json\", \"r\", encoding=\"utf-8\") as f:\n",
        "    train_data = json.load(f)\n",
        "\n",
        "with open(\"outputs/data/val_instruction_data.json\", \"r\", encoding=\"utf-8\") as f:\n",
        "    val_data = json.load(f)\n",
        "\n",
        "print(f\"Loaded {len(train_data)} training examples\")\n",
        "print(f\"Loaded {len(val_data)} validation examples\")\n",
        "\n",
        "# Convert to Hugging Face Dataset format\n",
        "train_dataset = Dataset.from_list(train_data)\n",
        "val_dataset = Dataset.from_list(val_data)\n",
        "\n",
        "# Show sample from new JSON format\n",
        "print(\"\\nSample training example:\")\n",
        "sample = train_dataset[0]\n",
        "print(f\"Instruction: {sample['instruction'][:100]}...\")\n",
        "print(f\"Input: {sample['input'][:100]}...\")\n",
        "print(f\"Output: {sample['output'][:100]}...\")\n"
      ]
    },
    {
      "cell_type": "code",
      "execution_count": 3,
      "metadata": {},
      "outputs": [
        {
          "name": "stdout",
          "output_type": "stream",
          "text": [
            "Loading tokenizer...\n",
            "Loading model...\n",
            "Model loaded: Qwen2ForCausalLM\n"
          ]
        }
      ],
      "source": [
        "# Load model and tokenizer\n",
        "model_path = \"models/Qwen2.5-0.5B-Instruct\"\n",
        "\n",
        "print(\"Loading tokenizer...\")\n",
        "tokenizer = AutoTokenizer.from_pretrained(model_path, trust_remote_code=True)\n",
        "tokenizer.pad_token = tokenizer.eos_token\n",
        "tokenizer.padding_side = \"right\"\n",
        "\n",
        "print(\"Loading model...\")\n",
        "model = AutoModelForCausalLM.from_pretrained(\n",
        "    model_path,\n",
        "    device_map=\"auto\",\n",
        "    trust_remote_code=True,\n",
        "    torch_dtype=torch.float16\n",
        ")\n",
        "\n",
        "print(f\"Model loaded: {model.__class__.__name__}\")\n"
      ]
    },
    {
      "cell_type": "code",
      "execution_count": 4,
      "metadata": {},
      "outputs": [
        {
          "name": "stdout",
          "output_type": "stream",
          "text": [
            "Applying LoRA configuration...\n",
            "Trainable params: 8,798,208 || All params: 502,830,976 || Trainable%: 1.75\n"
          ]
        }
      ],
      "source": [
        "# Configure LoRA (Low-Rank Adaptation)\n",
        "lora_config = LoraConfig(\n",
        "    r=16,  # LoRA rank\n",
        "    lora_alpha=32,\n",
        "    target_modules=[\"q_proj\", \"k_proj\", \"v_proj\", \"o_proj\", \"gate_proj\", \"up_proj\", \"down_proj\"],\n",
        "    lora_dropout=0.1,\n",
        "    bias=\"none\",\n",
        "    task_type=TaskType.CAUSAL_LM,\n",
        ")\n",
        "\n",
        "# Apply LoRA adapter\n",
        "print(\"Applying LoRA configuration...\")\n",
        "model = get_peft_model(model, lora_config)\n",
        "\n",
        "# Count trainable parameters\n",
        "trainable_params = sum(p.numel() for p in model.parameters() if p.requires_grad)\n",
        "all_params = sum(p.numel() for p in model.parameters())\n",
        "print(f\"Trainable params: {trainable_params:,} || All params: {all_params:,} || Trainable%: {100 * trainable_params / all_params:.2f}\")\n"
      ]
    },
    {
      "cell_type": "code",
      "execution_count": 5,
      "metadata": {},
      "outputs": [
        {
          "name": "stderr",
          "output_type": "stream",
          "text": [
            "c:\\Users\\Pavan Nittur\\Coding\\ML\\311-py-env\\Lib\\site-packages\\huggingface_hub\\utils\\_deprecation.py:100: FutureWarning: Deprecated argument(s) used in '__init__': max_seq_length. Will not be supported from version '1.0.0'.\n",
            "\n",
            "Deprecated positional argument(s) used in SFTTrainer, please use the SFTConfig to set these arguments instead.\n",
            "  warnings.warn(message, FutureWarning)\n",
            "c:\\Users\\Pavan Nittur\\Coding\\ML\\311-py-env\\Lib\\site-packages\\trl\\trainer\\sft_trainer.py:283: UserWarning: You passed a `max_seq_length` argument to the SFTTrainer, the value you passed will override the one in the `SFTConfig`.\n",
            "  warnings.warn(\n"
          ]
        },
        {
          "data": {
            "application/vnd.jupyter.widget-view+json": {
              "model_id": "f7af52d37907486a8e72ebbdbb623a27",
              "version_major": 2,
              "version_minor": 0
            },
            "text/plain": [
              "Map:   0%|          | 0/3 [00:00<?, ? examples/s]"
            ]
          },
          "metadata": {},
          "output_type": "display_data"
        },
        {
          "data": {
            "application/vnd.jupyter.widget-view+json": {
              "model_id": "1592dc6e2b914486a7b86f45062633e7",
              "version_major": 2,
              "version_minor": 0
            },
            "text/plain": [
              "Map:   0%|          | 0/2 [00:00<?, ? examples/s]"
            ]
          },
          "metadata": {},
          "output_type": "display_data"
        },
        {
          "name": "stdout",
          "output_type": "stream",
          "text": [
            "Trainer initialized successfully!\n"
          ]
        }
      ],
      "source": [
        "# Training configuration\n",
        "training_args = TrainingArguments(\n",
        "    output_dir=\"outputs/checkpoints\",\n",
        "    num_train_epochs=3,\n",
        "    per_device_train_batch_size=4,\n",
        "    per_device_eval_batch_size=4,\n",
        "    gradient_accumulation_steps=4,\n",
        "    optim=\"adamw_torch\",\n",
        "    save_steps=500,\n",
        "    logging_steps=50,\n",
        "    learning_rate=2e-4,\n",
        "    weight_decay=0.001,\n",
        "    fp16=True,\n",
        "    max_grad_norm=1.0,\n",
        "    warmup_ratio=0.03,\n",
        "    group_by_length=True,\n",
        "    lr_scheduler_type=\"cosine\",\n",
        "    eval_strategy=\"steps\",\n",
        "    eval_steps=500,\n",
        "    save_total_limit=3,\n",
        "    load_best_model_at_end=True,\n",
        "    metric_for_best_model=\"eval_loss\",\n",
        "    greater_is_better=False,\n",
        "    report_to=\"none\",\n",
        ")\n",
        "\n",
        "# Define how to format data for training\n",
        "def formatting_func(example):\n",
        "    \"\"\"Return the text field for training.\"\"\"\n",
        "    return example[\"text\"]\n",
        "\n",
        "# Initialize trainer\n",
        "trainer = SFTTrainer(\n",
        "    model=model,\n",
        "    train_dataset=train_dataset,\n",
        "    eval_dataset=val_dataset,\n",
        "    tokenizer=tokenizer,\n",
        "    args=training_args,\n",
        "    formatting_func=formatting_func,\n",
        "    max_seq_length=512,\n",
        ")\n",
        "\n",
        "print(\"Trainer initialized successfully!\")\n"
      ]
    },
    {
      "cell_type": "code",
      "execution_count": 6,
      "metadata": {},
      "outputs": [
        {
          "name": "stdout",
          "output_type": "stream",
          "text": [
            "Starting training...\n"
          ]
        },
        {
          "data": {
            "application/vnd.jupyter.widget-view+json": {
              "model_id": "76faec341803486a9ea99876bf9024b5",
              "version_major": 2,
              "version_minor": 0
            },
            "text/plain": [
              "  0%|          | 0/3 [00:00<?, ?it/s]"
            ]
          },
          "metadata": {},
          "output_type": "display_data"
        },
        {
          "name": "stdout",
          "output_type": "stream",
          "text": [
            "{'train_runtime': 1.0856, 'train_samples_per_second': 8.29, 'train_steps_per_second': 2.763, 'train_loss': 0.6317812999089559, 'epoch': 3.0}\n",
            "\n",
            "Saving the final model...\n",
            "Training completed and model saved!\n"
          ]
        }
      ],
      "source": [
        "# Train the model\n",
        "print(\"Starting training...\")\n",
        "trainer.train()\n",
        "\n",
        "# Save the final fine-tuned model\n",
        "print(\"\\nSaving the final model...\")\n",
        "os.makedirs(\"outputs/final_model\", exist_ok=True)\n",
        "trainer.save_model(\"outputs/final_model\")\n",
        "tokenizer.save_pretrained(\"outputs/final_model\")\n",
        "\n",
        "print(\"Training completed and model saved!\")\n"
      ]
    },
    {
      "cell_type": "code",
      "execution_count": 7,
      "metadata": {},
      "outputs": [
        {
          "name": "stdout",
          "output_type": "stream",
          "text": [
            "\n",
            "Final training metrics:\n",
            "  train_runtime: 1.0856\n",
            "  train_samples_per_second: 8.2900\n",
            "  train_steps_per_second: 2.7630\n",
            "  total_flos: 1999961729280.0000\n",
            "  train_loss: 0.6318\n",
            "  epoch: 3.0000\n",
            "  step: 3.0000\n"
          ]
        }
      ],
      "source": [
        "# Save training history and show final metrics\n",
        "history = trainer.state.log_history\n",
        "\n",
        "# Save training history\n",
        "os.makedirs(\"outputs/results\", exist_ok=True)\n",
        "with open(\"outputs/results/training_history.json\", \"w\") as f:\n",
        "    json.dump(history, f, indent=2)\n",
        "\n",
        "# Display final metrics\n",
        "if history:\n",
        "    final_metrics = history[-1]\n",
        "    print(\"\\nFinal training metrics:\")\n",
        "    for key, value in final_metrics.items():\n",
        "        if isinstance(value, (int, float)):\n",
        "            print(f\"  {key}: {value:.4f}\")\n"
      ]
    }
  ],
  "metadata": {
    "kernelspec": {
      "display_name": "311-py-env",
      "language": "python",
      "name": "311-py-env"
    },
    "language_info": {
      "codemirror_mode": {
        "name": "ipython",
        "version": 3
      },
      "file_extension": ".py",
      "mimetype": "text/x-python",
      "name": "python",
      "nbconvert_exporter": "python",
      "pygments_lexer": "ipython3",
      "version": "3.11.9"
    }
  },
  "nbformat": 4,
  "nbformat_minor": 2
}
